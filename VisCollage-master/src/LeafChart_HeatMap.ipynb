{
 "cells": [
  {
   "cell_type": "code",
   "execution_count": 1,
   "metadata": {},
   "outputs": [],
   "source": [
    "import numpy as np\n",
    "import json\n",
    "import matplotlib.pyplot as plt\n"
   ]
  },
  {
   "cell_type": "markdown",
   "metadata": {},
   "source": [
    "### Bitmap方法"
   ]
  },
  {
   "cell_type": "code",
   "execution_count": 2,
   "metadata": {},
   "outputs": [],
   "source": [
    "with open('bitmap_canvas/canvas.json') as f:\n",
    "    info = json.load(f)\n",
    "\n",
    "with open('bitmap_canvas/region.npy', 'rb') as f:\n",
    "    map_region = np.load(f, allow_pickle=True)\n",
    "\n",
    "with open('bitmap_canvas/dist.npy', 'rb') as f:\n",
    "    dist = np.load(f)\n"
   ]
  },
  {
   "cell_type": "code",
   "execution_count": 8,
   "metadata": {},
   "outputs": [
    {
     "data": {
      "text/plain": [
       "{'width': 1140,\n",
       " 'height': 673,\n",
       " 'regions': [{'points': [285.01171875,\n",
       "    146.4279327392578,\n",
       "    140.45083618164062,\n",
       "    96.65760803222656],\n",
       "   'alpha': 0.5},\n",
       "  {'points': [408.193115234375,\n",
       "    283.1513671875,\n",
       "    43.216064453125,\n",
       "    71.26980590820312],\n",
       "   'alpha': 0.5},\n",
       "  {'points': [492.36456298828125,\n",
       "    122.07839965820312,\n",
       "    193.51727294921875,\n",
       "    340.95489501953125],\n",
       "   'alpha': 0.8}],\n",
       " 'insights': [[526.8411464650253, 321.47527599411114],\n",
       "  [619.6543701473347, 408.01090473749537]]}"
      ]
     },
     "execution_count": 8,
     "metadata": {},
     "output_type": "execute_result"
    }
   ],
   "source": [
    "info"
   ]
  },
  {
   "cell_type": "code",
   "execution_count": 9,
   "metadata": {},
   "outputs": [],
   "source": [
    "dist = dist.T\n",
    "map_region = map_region.T"
   ]
  },
  {
   "cell_type": "code",
   "execution_count": 10,
   "metadata": {},
   "outputs": [
    {
     "data": {
      "text/plain": [
       "(100, 100)"
      ]
     },
     "execution_count": 10,
     "metadata": {},
     "output_type": "execute_result"
    }
   ],
   "source": [
    "dist[1:101,1:101].shape"
   ]
  },
  {
   "cell_type": "code",
   "execution_count": 11,
   "metadata": {},
   "outputs": [],
   "source": [
    "def find_min_spiral(matrix, center):\n",
    "    min_score = float('inf')\n",
    "    min_pos = (0, 0)\n",
    "    x = center[0] #current position; x\n",
    "    y = center[1]; #current position; y\n",
    "    d = 0; #urrent direction; 0=RIGHT, 1=DOWN, 2=LEFT, 3=UP\n",
    "    c = 0; #counter\n",
    "    s = 1; #chain size\n",
    "    \n",
    "    size = min(matrix.shape[0], matrix.shape[1])\n",
    " \n",
    "    for k in range(1, size):\n",
    "        for j in range(0, 2 if k<(size-1) else 3):\n",
    "            for i in range(0, s):\n",
    "                bbox = matrix[x-100:x+101,y-100:y+101]\n",
    "                #print(x, y, bbox.shape)\n",
    "                summ = sum(list(map(sum, bbox)))\n",
    "                if summ < min_score and summ > 0 and (bbox.shape[0]> 199 and bbox.shape[1] > 199):\n",
    "                    min_score = summ\n",
    "                    min_pos = (x, y)\n",
    "                c+=1\n",
    "                if d==0: y = y + 1\n",
    "                elif d==1: x = x + 1\n",
    "                elif d==2: y = y - 1\n",
    "                elif d==3: x = x - 1\n",
    "            d = (d+1)%4\n",
    "        s = s + 1;\n",
    "    return min_score, min_pos"
   ]
  },
  {
   "cell_type": "code",
   "execution_count": 12,
   "metadata": {},
   "outputs": [],
   "source": [
    "Cx, Cy = info['insights'][0]"
   ]
  },
  {
   "cell_type": "code",
   "execution_count": 13,
   "metadata": {},
   "outputs": [
    {
     "ename": "TypeError",
     "evalue": "slice indices must be integers or None or have an __index__ method",
     "output_type": "error",
     "traceback": [
      "\u001b[1;31m---------------------------------------------------------------------------\u001b[0m",
      "\u001b[1;31mTypeError\u001b[0m                                 Traceback (most recent call last)",
      "\u001b[1;32m<ipython-input-13-d6cb3d071e04>\u001b[0m in \u001b[0;36m<module>\u001b[1;34m\u001b[0m\n\u001b[1;32m----> 1\u001b[1;33m \u001b[0msum\u001b[0m\u001b[1;33m(\u001b[0m\u001b[0mlist\u001b[0m\u001b[1;33m(\u001b[0m\u001b[0mmap\u001b[0m\u001b[1;33m(\u001b[0m\u001b[0msum\u001b[0m\u001b[1;33m,\u001b[0m \u001b[0mdist\u001b[0m\u001b[1;33m[\u001b[0m\u001b[0mCx\u001b[0m\u001b[1;33m-\u001b[0m\u001b[1;36m50\u001b[0m\u001b[1;33m:\u001b[0m\u001b[0mCx\u001b[0m\u001b[1;33m+\u001b[0m\u001b[1;36m50\u001b[0m\u001b[1;33m,\u001b[0m \u001b[0mCy\u001b[0m\u001b[1;33m-\u001b[0m\u001b[1;36m50\u001b[0m\u001b[1;33m:\u001b[0m\u001b[0mCy\u001b[0m\u001b[1;33m+\u001b[0m\u001b[1;36m50\u001b[0m\u001b[1;33m]\u001b[0m\u001b[1;33m)\u001b[0m\u001b[1;33m)\u001b[0m\u001b[1;33m)\u001b[0m\u001b[1;33m\u001b[0m\u001b[1;33m\u001b[0m\u001b[0m\n\u001b[0m",
      "\u001b[1;31mTypeError\u001b[0m: slice indices must be integers or None or have an __index__ method"
     ]
    }
   ],
   "source": [
    "sum(list(map(sum, dist[Cx-50:Cx+50, Cy-50:Cy+50])))"
   ]
  },
  {
   "cell_type": "code",
   "execution_count": 2,
   "metadata": {},
   "outputs": [],
   "source": [
    "#min_score, min_pos = find_min_spiral(data, (Cx,Cy))"
   ]
  },
  {
   "cell_type": "code",
   "execution_count": 3,
   "metadata": {},
   "outputs": [],
   "source": [
    "#min_score, min_pos, Cx, Cy"
   ]
  },
  {
   "cell_type": "code",
   "execution_count": 15,
   "metadata": {},
   "outputs": [
    {
     "ename": "KeyError",
     "evalue": "'center'",
     "output_type": "error",
     "traceback": [
      "\u001b[1;31m---------------------------------------------------------------------------\u001b[0m",
      "\u001b[1;31mKeyError\u001b[0m                                  Traceback (most recent call last)",
      "\u001b[1;32m<ipython-input-15-5b61ec7b6ba3>\u001b[0m in \u001b[0;36m<module>\u001b[1;34m\u001b[0m\n\u001b[0;32m      1\u001b[0m \u001b[0mim\u001b[0m \u001b[1;33m=\u001b[0m \u001b[0mplt\u001b[0m\u001b[1;33m.\u001b[0m\u001b[0mimshow\u001b[0m\u001b[1;33m(\u001b[0m\u001b[0mdist\u001b[0m\u001b[1;33m,\u001b[0m \u001b[0mcmap\u001b[0m\u001b[1;33m=\u001b[0m\u001b[1;34m'jet'\u001b[0m\u001b[1;33m,\u001b[0m \u001b[0minterpolation\u001b[0m\u001b[1;33m=\u001b[0m\u001b[1;34m'nearest'\u001b[0m\u001b[1;33m)\u001b[0m\u001b[1;33m\u001b[0m\u001b[1;33m\u001b[0m\u001b[0m\n\u001b[1;32m----> 2\u001b[1;33m \u001b[0mplt\u001b[0m\u001b[1;33m.\u001b[0m\u001b[0mscatter\u001b[0m\u001b[1;33m(\u001b[0m\u001b[0mint\u001b[0m\u001b[1;33m(\u001b[0m\u001b[0minfo\u001b[0m\u001b[1;33m[\u001b[0m\u001b[1;34m'center'\u001b[0m\u001b[1;33m]\u001b[0m\u001b[1;33m[\u001b[0m\u001b[1;36m0\u001b[0m\u001b[1;33m]\u001b[0m\u001b[1;33m)\u001b[0m\u001b[1;33m,\u001b[0m \u001b[0mint\u001b[0m\u001b[1;33m(\u001b[0m\u001b[0minfo\u001b[0m\u001b[1;33m[\u001b[0m\u001b[1;34m'center'\u001b[0m\u001b[1;33m]\u001b[0m\u001b[1;33m[\u001b[0m\u001b[1;36m1\u001b[0m\u001b[1;33m]\u001b[0m\u001b[1;33m)\u001b[0m\u001b[1;33m,\u001b[0m \u001b[0mmarker\u001b[0m\u001b[1;33m=\u001b[0m\u001b[1;34m'^'\u001b[0m\u001b[1;33m,\u001b[0m \u001b[0mc\u001b[0m\u001b[1;33m=\u001b[0m\u001b[1;34m'yellow'\u001b[0m\u001b[1;33m)\u001b[0m\u001b[1;33m\u001b[0m\u001b[1;33m\u001b[0m\u001b[0m\n\u001b[0m\u001b[0;32m      3\u001b[0m \u001b[1;31m#plt.scatter(min_pos[0], min_pos[1], marker='x', c='r')\u001b[0m\u001b[1;33m\u001b[0m\u001b[1;33m\u001b[0m\u001b[1;33m\u001b[0m\u001b[0m\n\u001b[0;32m      4\u001b[0m \u001b[0mplt\u001b[0m\u001b[1;33m.\u001b[0m\u001b[0mcolorbar\u001b[0m\u001b[1;33m(\u001b[0m\u001b[0mim\u001b[0m\u001b[1;33m)\u001b[0m\u001b[1;33m;\u001b[0m\u001b[1;33m\u001b[0m\u001b[1;33m\u001b[0m\u001b[0m\n\u001b[0;32m      5\u001b[0m \u001b[0mplt\u001b[0m\u001b[1;33m.\u001b[0m\u001b[0mshow\u001b[0m\u001b[1;33m(\u001b[0m\u001b[1;33m)\u001b[0m\u001b[1;33m\u001b[0m\u001b[1;33m\u001b[0m\u001b[0m\n",
      "\u001b[1;31mKeyError\u001b[0m: 'center'"
     ]
    },
    {
     "data": {
      "image/png": "[encoded data removed]",
      "text/plain": [
       "<Figure size 432x288 with 1 Axes>"
      ]
     },
     "metadata": {
      "needs_background": "light"
     },
     "output_type": "display_data"
    }
   ],
   "source": [
    "im = plt.imshow(dist, cmap='jet', interpolation='nearest')\n",
    "plt.scatter(int(info['center'][0]), int(info['center'][1]), marker='^', c='yellow')\n",
    "#plt.scatter(min_pos[0], min_pos[1], marker='x', c='r')\n",
    "plt.colorbar(im);\n",
    "plt.show()"
   ]
  },
  {
   "cell_type": "code",
   "execution_count": 14,
   "metadata": {},
   "outputs": [
    {
     "data": {
      "image/png": "[encoded data removed]",
      "text/plain": [
       "<Figure size 432x288 with 2 Axes>"
      ]
     },
     "metadata": {
      "needs_background": "light"
     },
     "output_type": "display_data"
    }
   ],
   "source": [
    "im = plt.imshow(region, cmap='jet', interpolation='nearest')\n",
    "plt.scatter(int(info['center'][0]), int(info['center'][1]), marker='^', c='yellow')\n",
    "plt.colorbar(im);\n",
    "plt.show()"
   ]
  },
  {
   "cell_type": "code",
   "execution_count": 15,
   "metadata": {},
   "outputs": [],
   "source": [
    "bit = np.zeros(region.shape)\n",
    "for i in range(region.shape[0]):\n",
    "    for j in range(region.shape[1]):\n",
    "        if region[i][j] > 0:\n",
    "            bit[i][j] = 1\n",
    "        else:\n",
    "            bit[i][j] = 0"
   ]
  },
  {
   "cell_type": "code",
   "execution_count": 16,
   "metadata": {},
   "outputs": [],
   "source": [
    "overlap = np.zeros(bit.shape)\n",
    "for i in range(100, bit.shape[0]-100):\n",
    "    for j in range(100, bit.shape[1]-100):\n",
    "        overlap[i,j] = sum(map(sum, bit[i-100:i+100,j-100:j+100]))/40000"
   ]
  },
  {
   "cell_type": "code",
   "execution_count": 17,
   "metadata": {},
   "outputs": [
    {
     "data": {
      "image/png": "[encoded data removed]",
      "text/plain": [
       "<Figure size 432x288 with 2 Axes>"
      ]
     },
     "metadata": {
      "needs_background": "light"
     },
     "output_type": "display_data"
    }
   ],
   "source": [
    "im = plt.imshow(overlap, cmap='jet', interpolation='nearest')\n",
    "plt.scatter(int(info['center'][0]), int(info['center'][1]), marker='^', c='blue')\n",
    "plt.colorbar(im);\n",
    "plt.show()"
   ]
  },
  {
   "cell_type": "code",
   "execution_count": 18,
   "metadata": {},
   "outputs": [],
   "source": [
    "Total_score = 0.5*dist+0.3*region+0.5*overlap\n",
    "min_score = float('inf')\n",
    "min_pos = (0, 0)\n",
    "for i in range(Total_score.shape[0]):\n",
    "    for j in range(Total_score.shape[1]):\n",
    "        if Total_score[i][j] <= min_score:\n",
    "            min_score = Total_score[i][j]\n",
    "            min_pos = (i, j)\n",
    "            #print(min_pos, min_score)"
   ]
  },
  {
   "cell_type": "code",
   "execution_count": 19,
   "metadata": {},
   "outputs": [
    {
     "data": {
      "text/plain": [
       "((734, 1035), (325, 680), 0.14645373461784975)"
      ]
     },
     "execution_count": 19,
     "metadata": {},
     "output_type": "execute_result"
    }
   ],
   "source": [
    "Total_score.shape, min_pos, min_score"
   ]
  },
  {
   "cell_type": "code",
   "execution_count": 20,
   "metadata": {},
   "outputs": [
    {
     "data": {
      "image/png": "[encoded data removed]",
      "text/plain": [
       "<Figure size 432x288 with 2 Axes>"
      ]
     },
     "metadata": {
      "needs_background": "light"
     },
     "output_type": "display_data"
    }
   ],
   "source": [
    "im = plt.imshow(Total_score, cmap='jet', interpolation='nearest')\n",
    "plt.scatter(int(info['center'][0]), int(info['center'][1]), marker='^', c='blue')\n",
    "plt.scatter(min_pos[1], min_pos[0], marker='x', c='r')\n",
    "plt.colorbar(im);\n",
    "plt.show()"
   ]
  },
  {
   "cell_type": "markdown",
   "metadata": {},
   "source": [
    "### 向量方法"
   ]
  },
  {
   "cell_type": "code",
   "execution_count": 2,
   "metadata": {},
   "outputs": [],
   "source": [
    "from shapely.geometry import Polygon\n",
    "import seaborn as sns\n",
    "from PIL import Image, ImageDraw "
   ]
  },
  {
   "cell_type": "code",
   "execution_count": 3,
   "metadata": {},
   "outputs": [],
   "source": [
    "def drawRegions(W, H, regions, alpha, POI, Place, scale_text):\n",
    "    # creating new Image object \n",
    "    img = Image.new(\"RGBA\", (W, H)) \n",
    "    \n",
    "    # create rectangle image \n",
    "    img1 = ImageDraw.Draw(img)\n",
    "    \n",
    "    # draw region\n",
    "    for i in range(0, len(regions)):\n",
    "        shape = [(regions[i][0], regions[i][1]), (regions[i][0]+regions[i][2], regions[i][1]+regions[i][3])]\n",
    "        opacity = int(255 * alpha[i])\n",
    "        img1.rectangle(shape, fill = (39, 113, 149, opacity), outline = \"#315669\")\n",
    "    \n",
    "    # draw POI\n",
    "    for p in range(0, len(POI)):\n",
    "        r = 5\n",
    "        leftUpPoint = (POI[p][0]-r, POI[p][1]-r)\n",
    "        rightDownPoint = (POI[p][0]+r, POI[p][1]+r)\n",
    "        img1.ellipse([leftUpPoint,rightDownPoint], fill = (255, 0, 0))\n",
    "    \n",
    "    # draw annoBox Center\n",
    "    for p in range(0, len(Place)):\n",
    "        r = 5\n",
    "        leftUpPoint = (Place[p][0]-r, Place[p][1]-r)\n",
    "        rightDownPoint = (Place[p][0]+r, Place[p][1]+r)\n",
    "        img1.ellipse([leftUpPoint,rightDownPoint], fill = (0, 255, 0))\n",
    "        \n",
    "    img.save(scale_text+\".PNG\")\n",
    "    #img.show()\n",
    "    "
   ]
  },
  {
   "cell_type": "code",
   "execution_count": 4,
   "metadata": {},
   "outputs": [],
   "source": [
    "def getIntersectArea(poly1, poly2):\n",
    "    intersectPoint = poly1.intersects(poly2)\n",
    "    if intersectPoint:\n",
    "        return poly1.intersection(poly2).area\n",
    "    else:\n",
    "        return 0"
   ]
  },
  {
   "cell_type": "code",
   "execution_count": 5,
   "metadata": {},
   "outputs": [],
   "source": [
    "def getDistance(p1, p2):\n",
    "    return pow(pow(p2[0]-p1[0], 2)+pow(p2[1]-p1[1], 2), 0.5)"
   ]
  },
  {
   "cell_type": "code",
   "execution_count": 6,
   "metadata": {},
   "outputs": [],
   "source": [
    "def find_coordinate(pt):\n",
    "    x, y, w, h = int(pt[0]), int(pt[1]), int(pt[2]), int(pt[3])\n",
    "    p1 = (x, y+h)\n",
    "    p2 = (x+w, y+h)\n",
    "    p3 = (x+w, y)\n",
    "    p4 = (x, y)\n",
    "    return [p1, p2, p3, p4]"
   ]
  },
  {
   "cell_type": "code",
   "execution_count": 7,
   "metadata": {},
   "outputs": [],
   "source": [
    "def find_leave_placement(info, param):\n",
    "    MIN_C = []\n",
    "    MIN_SCORE = []\n",
    "    TOTAL_PENALTY = []\n",
    "    TOTAL_DISTANCE = []\n",
    "    TOTAL_SCORE = []\n",
    "    BBOX_SIZE = (200, 300)\n",
    "    BBOX_C = (100, 150)\n",
    "\n",
    "    polys = info['regions']\n",
    "    TARGET_C = info['insights']\n",
    "    weight = 50\n",
    "    # rough estimate\n",
    "    for t in range(len(TARGET_C)):\n",
    "        PENALTY = []\n",
    "        DISTANCE = []\n",
    "        SCORE = []\n",
    "        min_score, min_pos, min_poly = float('inf'), None, None\n",
    "        for i in range(0, info['width']-BBOX_SIZE[0], 100):\n",
    "            PENALTY.append([])\n",
    "            DISTANCE.append([])\n",
    "            SCORE.append([])\n",
    "            for j in range(0, info['height']-BBOX_SIZE[1], 100):\n",
    "                # Calculate Intersection\n",
    "                poly2 = Polygon([(i,j+BBOX_SIZE[1]), (i+BBOX_SIZE[0],j+BBOX_SIZE[1]), (i+BBOX_SIZE[0], j), (i,j)])\n",
    "                penalty = 0\n",
    "                for p in range(len(polys)):\n",
    "                    poly1 = Polygon(find_coordinate(polys[p]['points']))\n",
    "                    area = getIntersectArea(poly1, poly2)\n",
    "                    if area > 0:\n",
    "                        penalty += area * polys[p]['alpha']\n",
    "                # Calculate Distance\n",
    "                distance = getDistance([i+BBOX_C[0], j+BBOX_C[1]], TARGET_C[t])\n",
    "                score = param[0]*penalty + param[1]*distance\n",
    "                if score < min_score:\n",
    "                    min_pos = (i, j)\n",
    "                    min_score = score\n",
    "                    min_poly = poly2\n",
    "                PENALTY[len(PENALTY)-1].append(round(param[0]*penalty,2))\n",
    "                DISTANCE[len(DISTANCE)-1].append(round(param[1]*distance,2))\n",
    "                SCORE[len(SCORE)-1].append(round(score, 2))\n",
    "        TOTAL_PENALTY.append(PENALTY)\n",
    "        TOTAL_DISTANCE.append(DISTANCE)\n",
    "        TOTAL_SCORE.append(SCORE)\n",
    "\n",
    "        # pixel one by one in a minimal section\n",
    "        #print(min_poly.exterior.coords[3])\n",
    "        start = min_poly.exterior.coords[3]\n",
    "        min_score, min_pos, min_poly = float('inf'), None, None\n",
    "        for i in range(int(start[0])-100, int(start[0])+100, 10):\n",
    "            for j in range(int(start[1])-100, int(start[1])+100, 10):\n",
    "                # Calculate Intersection\n",
    "                poly2 = Polygon([(i,j+BBOX_SIZE[1]), (i+BBOX_SIZE[0],j+BBOX_SIZE[1]), (i+BBOX_SIZE[0], j), (i,j)])\n",
    "                penalty = 0\n",
    "                for p in range(len(polys)):\n",
    "                    poly1 = Polygon(find_coordinate(polys[p]['points']))\n",
    "                    area = getIntersectArea(poly1, poly2)\n",
    "                    if area > 0:\n",
    "                        penalty += area * polys[p]['alpha']\n",
    "                # Calculate Distance\n",
    "                distance = getDistance([i+BBOX_C[0], j+BBOX_C[1]], TARGET_C[t])\n",
    "                score = param[2]*penalty + param[3]*distance\n",
    "                #print(i, j, \"=>\", score)\n",
    "                if score < min_score:\n",
    "                    min_pos = (i+BBOX_C[0], j+BBOX_C[1])\n",
    "                    min_score = score\n",
    "                    min_poly = poly2\n",
    "\n",
    "        #print(min_score, min_pos, min_poly)\n",
    "        MIN_C.append(min_pos)\n",
    "        MIN_SCORE.append(min_score)\n",
    "\n",
    "        polys.append({'points': [min_pos[0], min_pos[1], 200, 300], 'alpha': weight})\n",
    "        \n",
    "    #drawGridScore(TOTAL_PENALTY, TOTAL_DISTANCE, TOTAL_SCORE)\n",
    "    return MIN_C, MIN_SCORE"
   ]
  },
  {
   "cell_type": "code",
   "execution_count": 8,
   "metadata": {},
   "outputs": [],
   "source": [
    "def drawGridScore(TOTAL_PENALTY, TOTAL_DISTANCE, TOTAL_SCORE):\n",
    "    for i in range (len(TOTAL_PENALTY)):\n",
    "        DRAW_PENALTY = np.array(TOTAL_PENALTY[i]).T.tolist()\n",
    "        DRAW_DISTANCE = np.array(TOTAL_DISTANCE[i]).T.tolist()\n",
    "        DRAW_SCORE = np.array(TOTAL_SCORE[i]).T.tolist()\n",
    "        fig, (ax1, ax2, ax3) = plt.subplots(ncols=3, figsize=(25, 5))\n",
    "        sns.heatmap(DRAW_PENALTY, square=True, ax=ax1, annot=True, annot_kws={\"size\":10})\n",
    "        sns.heatmap(DRAW_DISTANCE, square=True, ax=ax2, annot=True, annot_kws={\"size\":10})\n",
    "        sns.heatmap(DRAW_SCORE, square=True, ax=ax3, annot=True, annot_kws={\"size\":10})\n",
    "        plt.tight_layout()"
   ]
  },
  {
   "cell_type": "code",
   "execution_count": 9,
   "metadata": {},
   "outputs": [],
   "source": [
    "# width, height 不變\n",
    "# regions 縮放位移\n",
    "# insights 位移\n",
    "def scaleRegions(W, H, scaling):\n",
    "    \n",
    "    info_scale = {'width': W,'height': H, 'regions':[], 'insights':[]}\n",
    "    \n",
    "    for r in range(0, len(shape_regions)):\n",
    "        points = shape_regions[r]\n",
    "        alpha = alpha_regions[r]\n",
    "        points[0] = round((points[0]-W/2) * scaling + W/2, 2)\n",
    "        points[1] = round((points[1]-H/2) * scaling + H/2, 2)\n",
    "        points[2] = round(points[2] * scaling, 2)\n",
    "        points[3] = round(points[3] * scaling, 2)\n",
    "        info_scale['regions'].append({'points': points, 'alpha': alpha})\n",
    "\n",
    "    for p in range(0, len(info['insights'])):\n",
    "        scale_insight = info['insights'][p]\n",
    "        scale_insight[0] = round((scale_insight[0]-W/2) * scaling + W/2, 2)\n",
    "        scale_insight[1] = round((scale_insight[1]-H/2) * scaling + H/2, 2)\n",
    "        info_scale['insights'].append(scale_insight)\n",
    "    \n",
    "    return info_scale"
   ]
  },
  {
   "cell_type": "code",
   "execution_count": 15,
   "metadata": {},
   "outputs": [],
   "source": [
    "index_growing = {}"
   ]
  },
  {
   "cell_type": "code",
   "execution_count": 16,
   "metadata": {},
   "outputs": [],
   "source": [
    "index = 2\n",
    "with open('bitmap_canvas/AQ_Case1_canvas.json') as f:\n",
    "    info = json.load(f)"
   ]
  },
  {
   "cell_type": "code",
   "execution_count": 17,
   "metadata": {},
   "outputs": [
    {
     "data": {
      "text/plain": [
       "{'width': 809,\n",
       " 'height': 464,\n",
       " 'regions': [{'points': [186.61007690429688,\n",
       "    106.46315002441406,\n",
       "    117.0423583984375,\n",
       "    80.54800415039062],\n",
       "   'alpha': 1},\n",
       "  {'points': [289.26123046875,\n",
       "    220.3993377685547,\n",
       "    36.013397216796875,\n",
       "    59.39152526855469],\n",
       "   'alpha': 0.5},\n",
       "  {'points': [50, 40, 123.65625, 17], 'alpha': 0.8},\n",
       "  {'points': [50, 65, 123.65625, 17], 'alpha': 0.8},\n",
       "  {'points': [359.40411376953125,\n",
       "    86.171875,\n",
       "    161.264404296875,\n",
       "    284.12908935546875],\n",
       "   'alpha': 0.8}],\n",
       " 'insights': [[228.55041466517832, 160.5336695776291],\n",
       "  [373.72297485524723, 296.4594803866912]]}"
      ]
     },
     "execution_count": 17,
     "metadata": {},
     "output_type": "execute_result"
    }
   ],
   "source": [
    "info"
   ]
  },
  {
   "cell_type": "code",
   "execution_count": 18,
   "metadata": {},
   "outputs": [],
   "source": [
    "shape_regions = []\n",
    "alpha_regions = []\n",
    "\n",
    "for i in range (0,len(info['regions'])):\n",
    "    shape_regions.append(info['regions'][i]['points'])\n",
    "    alpha_regions.append(info['regions'][i]['alpha'])"
   ]
  },
  {
   "cell_type": "code",
   "execution_count": 19,
   "metadata": {},
   "outputs": [
    {
     "name": "stdout",
     "output_type": "stream",
     "text": [
      "[(620, 160), (180, 340)] [39.14499491148542, 19.85557046145078]\n"
     ]
    }
   ],
   "source": [
    "# find best placement and draw\n",
    "constant_param = [0.9,0.1,0.9,0.1]\n",
    "MIN_C, MIN_SCORE = find_leave_placement(info, constant_param)\n",
    "print(MIN_C, MIN_SCORE)\n",
    "drawRegions(info['width'], info['height'], shape_regions, alpha_regions, info['insights'], MIN_C, 'origin')"
   ]
  },
  {
   "cell_type": "markdown",
   "metadata": {},
   "source": [
    "### Constant Parameter Grid Search"
   ]
  },
  {
   "cell_type": "code",
   "execution_count": 20,
   "metadata": {},
   "outputs": [],
   "source": [
    "constant_param = [[0.9,0.1,0.9,0.1], [0.5,0.5,0.9,0.1], [0.8,0.2,0.8,0.2], [0.5,0.5,0.8,0.2], [0.7,0.3,0.9,0.1]]"
   ]
  },
  {
   "cell_type": "code",
   "execution_count": 21,
   "metadata": {},
   "outputs": [
    {
     "name": "stdout",
     "output_type": "stream",
     "text": [
      "param:  [0.9, 0.1, 0.9, 0.1]\n",
      "[(620, 160), (180, 340)] [39.145035879406215, 19.855268822153988]\n",
      "param:  [0.5, 0.5, 0.9, 0.1]\n",
      "[(620, 160), (180, 340)] [39.145035879406215, 19.855268822153988]\n",
      "param:  [0.8, 0.2, 0.8, 0.2]\n",
      "[(620, 160), (180, 340)] [78.29007175881243, 39.710537644307976]\n",
      "param:  [0.5, 0.5, 0.8, 0.2]\n",
      "[(620, 160), (180, 340)] [78.29007175881243, 39.710537644307976]\n",
      "param:  [0.7, 0.3, 0.9, 0.1]\n",
      "[(620, 160), (180, 340)] [39.145035879406215, 19.855268822153988]\n"
     ]
    }
   ],
   "source": [
    "for i in range(len(constant_param)):\n",
    "    print('param: ', constant_param[i])\n",
    "    info_scale = scaleRegions(info['width'], info['height'], 1.0)\n",
    "\n",
    "    MIN_C, MIN_SCORE = find_leave_placement(info_scale, constant_param[i])\n",
    "    print(MIN_C, MIN_SCORE)"
   ]
  },
  {
   "cell_type": "code",
   "execution_count": null,
   "metadata": {},
   "outputs": [],
   "source": []
  },
  {
   "cell_type": "code",
   "execution_count": null,
   "metadata": {},
   "outputs": [],
   "source": []
  },
  {
   "cell_type": "markdown",
   "metadata": {},
   "source": [
    "### Main_Div Scaling to find the best scale"
   ]
  },
  {
   "cell_type": "code",
   "execution_count": 28,
   "metadata": {},
   "outputs": [
    {
     "name": "stdout",
     "output_type": "stream",
     "text": [
      "scale:  1\n",
      "[[158.86, 168.05]]\n",
      "[(650, 170)] [49.114387108056235] 49.114387108056235\n",
      "scale:  0.95\n",
      "[[171.29, 171.25]]\n",
      "[(640, 170)] [46.87116668059374] 51.441105431951634\n",
      "scale:  0.9\n",
      "[[194.91, 177.32]]\n",
      "[(630, 180)] [43.509825384618594] 51.77669220769612\n",
      "scale:  0.85\n",
      "[[226.8, 185.52]]\n",
      "[(610, 190)] [38.32261869966613] 48.957145388823484\n",
      "scale:  0.8\n",
      "[[262.94, 194.82]]\n",
      "[(590, 190)] [32.709551510224046] 44.484990053904696\n",
      "Best_Scale:\n",
      "44.484990053904696 0.8\n"
     ]
    }
   ],
   "source": [
    "# find best scale of best placement and draw\n",
    "constant_param = [0.9, 0.1, 0.9, 0.1]\n",
    "scale_hyperparam = [1, 0.95, 0.9, 0.85, 0.8]\n",
    "save_info_scale = {}\n",
    "best_score = float('inf')\n",
    "best_scale = 1\n",
    "best_scale_pos = None\n",
    "\n",
    "index_growing[str(index)] = []\n",
    "for scaling in scale_hyperparam:\n",
    "    print('scale: ', scaling)\n",
    "    info_scale = scaleRegions(info['width'], info['height'], scaling)\n",
    "    save_info_scale['scale_'+str(scaling)] = {'info': info_scale}\n",
    "    print(info_scale['insights'])\n",
    "\n",
    "    shape_regions_scale = []\n",
    "    alpha_regions_scale = []\n",
    "    for i in range (0, len(info_scale['regions'])):\n",
    "        #print(info_scale['regions'][i])\n",
    "        shape_regions_scale.append(info_scale['regions'][i]['points'])\n",
    "        alpha_regions_scale.append(info_scale['regions'][i]['alpha'])\n",
    "\n",
    "    MIN_C, MIN_SCORE = find_leave_placement(info_scale, constant_param)\n",
    "    save_info_scale['scale_'+str(scaling)]['center'] = MIN_C\n",
    "    save_info_scale['scale_'+str(scaling)]['score'] = MIN_SCORE\n",
    "\n",
    "    if sum(MIN_SCORE)*(2-pow(scaling,index)) < best_score:\n",
    "        best_score = sum(MIN_SCORE)*(2-pow(scaling,index))\n",
    "        best_scale = scaling\n",
    "        best_scale_pos = MIN_C\n",
    "\n",
    "    index_growing[str(index)].append(sum(MIN_SCORE)*(2-pow(scaling,index)))\n",
    "    print(MIN_C, MIN_SCORE, sum(MIN_SCORE)*(2-pow(scaling,index)))\n",
    "\n",
    "    #drawRegions(info_scale['width'], info_scale['height'], shape_regions_scale, alpha_regions_scale,\n",
    "    #            info_scale['insights'], MIN_C, 'scale'+str(round(scaling*100,0)))\n",
    "\n",
    "#with open('bitmap_canvas/info_scale.json', 'w') as f:\n",
    "#    json.dump(save_info_scale, f)\n",
    "\n",
    "print(\"Best_Scale:\")\n",
    "print(best_score, best_scale)"
   ]
  },
  {
   "cell_type": "code",
   "execution_count": 29,
   "metadata": {},
   "outputs": [],
   "source": [
    "#with open('bitmap_canvas/info_scale.json') as f:\n",
    "#    info = json.load(f)\n",
    "#info"
   ]
  },
  {
   "cell_type": "code",
   "execution_count": 30,
   "metadata": {},
   "outputs": [
    {
     "data": {
      "text/plain": [
       "({'4': [49.114387108056235,\n",
       "   55.56547515505213,\n",
       "   58.472854334388934,\n",
       "   56.640590921739665,\n",
       "   52.02127072186032],\n",
       "  '2': [49.114387108056235,\n",
       "   51.441105431951634,\n",
       "   51.77669220769612,\n",
       "   48.957145388823484,\n",
       "   44.484990053904696]},\n",
       " [1, 0.95, 0.9, 0.85, 0.8])"
      ]
     },
     "execution_count": 30,
     "metadata": {},
     "output_type": "execute_result"
    }
   ],
   "source": [
    "index_growing, scale_hyperparam"
   ]
  },
  {
   "cell_type": "code",
   "execution_count": 31,
   "metadata": {},
   "outputs": [
    {
     "ename": "KeyError",
     "evalue": "'0'",
     "output_type": "error",
     "traceback": [
      "\u001b[1;31m---------------------------------------------------------------------------\u001b[0m",
      "\u001b[1;31mKeyError\u001b[0m                                  Traceback (most recent call last)",
      "\u001b[1;32m<ipython-input-31-5c0039f341c0>\u001b[0m in \u001b[0;36m<module>\u001b[1;34m\u001b[0m\n\u001b[0;32m      8\u001b[0m \u001b[1;33m\u001b[0m\u001b[0m\n\u001b[0;32m      9\u001b[0m \u001b[1;32mfor\u001b[0m \u001b[0mi\u001b[0m \u001b[1;32min\u001b[0m \u001b[0mrange\u001b[0m\u001b[1;33m(\u001b[0m\u001b[0mindex\u001b[0m\u001b[1;33m+\u001b[0m\u001b[1;36m1\u001b[0m\u001b[1;33m)\u001b[0m\u001b[1;33m:\u001b[0m\u001b[1;33m\u001b[0m\u001b[1;33m\u001b[0m\u001b[0m\n\u001b[1;32m---> 10\u001b[1;33m     \u001b[0mplt\u001b[0m\u001b[1;33m.\u001b[0m\u001b[0mplot\u001b[0m\u001b[1;33m(\u001b[0m\u001b[0mscale_hyperparam\u001b[0m\u001b[1;33m,\u001b[0m \u001b[0mindex_growing\u001b[0m\u001b[1;33m[\u001b[0m\u001b[0mstr\u001b[0m\u001b[1;33m(\u001b[0m\u001b[0mi\u001b[0m\u001b[1;33m)\u001b[0m\u001b[1;33m]\u001b[0m\u001b[1;33m,\u001b[0m \u001b[0mlabel\u001b[0m \u001b[1;33m=\u001b[0m \u001b[1;34m\"pow(ScaleRate,\"\u001b[0m\u001b[1;33m+\u001b[0m\u001b[0mstr\u001b[0m\u001b[1;33m(\u001b[0m\u001b[0mi\u001b[0m\u001b[1;33m)\u001b[0m\u001b[1;33m+\u001b[0m\u001b[1;34m\")\"\u001b[0m\u001b[1;33m,\u001b[0m \u001b[0mcolor\u001b[0m\u001b[1;33m=\u001b[0m\u001b[0mcolors\u001b[0m\u001b[1;33m[\u001b[0m\u001b[0mi\u001b[0m\u001b[1;33m]\u001b[0m\u001b[1;33m,\u001b[0m \u001b[0mmarker\u001b[0m\u001b[1;33m=\u001b[0m\u001b[1;34m'o'\u001b[0m\u001b[1;33m,\u001b[0m \u001b[0mmarkersize\u001b[0m\u001b[1;33m=\u001b[0m\u001b[1;36m7\u001b[0m\u001b[1;33m,\u001b[0m \u001b[0mlinewidth\u001b[0m\u001b[1;33m=\u001b[0m\u001b[1;36m3\u001b[0m\u001b[1;33m)\u001b[0m\u001b[1;33m\u001b[0m\u001b[1;33m\u001b[0m\u001b[0m\n\u001b[0m\u001b[0;32m     11\u001b[0m \u001b[1;33m\u001b[0m\u001b[0m\n\u001b[0;32m     12\u001b[0m \u001b[0mplt\u001b[0m\u001b[1;33m.\u001b[0m\u001b[0mxlabel\u001b[0m\u001b[1;33m(\u001b[0m\u001b[1;34m'scale rate'\u001b[0m\u001b[1;33m)\u001b[0m\u001b[1;33m\u001b[0m\u001b[1;33m\u001b[0m\u001b[0m\n",
      "\u001b[1;31mKeyError\u001b[0m: '0'"
     ]
    }
   ],
   "source": [
    "# importing package\n",
    "import matplotlib.pyplot as plt\n",
    "import numpy as np\n",
    "\n",
    "  \n",
    "# plot lines\n",
    "colors = plt.cm.copper(np.linspace(0, 1, 5))\n",
    "\n",
    "for i in range(index+1):\n",
    "    plt.plot(scale_hyperparam, index_growing[str(i)], label = \"pow(ScaleRate,\"+str(i)+\")\", color=colors[i], marker='o', markersize=7, linewidth=3)\n",
    "\n",
    "plt.xlabel('scale rate')\n",
    "plt.ylabel('scale penalty score') \n",
    "plt.xticks(np.arange(0.8, 1.01, 0.05))\n",
    "\n",
    "plt.legend()\n",
    "plt.show()"
   ]
  },
  {
   "cell_type": "code",
   "execution_count": null,
   "metadata": {},
   "outputs": [],
   "source": [
    "fig, (ax1, ax2) = plt.subplots(2, 1, sharex=True)\n",
    "fig.subplots_adjust(hspace=0.05)  # adjust space between axes\n",
    "\n",
    "# plot the same data on both axes\n",
    "# ax1.plot(scale_hyperparam, index_growing['0'])\n",
    "# ax2.plot(scale_hyperparam, index_growing['0'])\n",
    "for i in range(index+1):\n",
    "    ax1.plot(scale_hyperparam, index_growing[str(i)], label = \"pow(ScaleRate,\"+str(i)+\")\", color=colors[i], marker='o', markersize=7, linewidth=3)\n",
    "    ax2.plot(scale_hyperparam, index_growing[str(i)], label = \"pow(ScaleRate,\"+str(i)+\")\", color=colors[i], marker='o', markersize=7, linewidth=3)\n",
    "\n",
    "\n",
    "# zoom-in / limit the view to different portions of the data\n",
    "ax1.set_ylim(70000, 80000)  # outliers only\n",
    "ax2.set_ylim(0, 100)  # most of the data\n",
    "\n",
    "# hide the spines between ax and ax2\n",
    "ax1.spines['bottom'].set_visible(False)\n",
    "ax2.spines['top'].set_visible(False)\n",
    "ax1.xaxis.tick_top()\n",
    "ax1.tick_params(labeltop=False)  # don't put tick labels at the top\n",
    "ax2.xaxis.tick_bottom()\n",
    "\n",
    "# Now, let's turn towards the cut-out slanted lines.\n",
    "# We create line objects in axes coordinates, in which (0,0), (0,1),\n",
    "# (1,0), and (1,1) are the four corners of the axes.\n",
    "# The slanted lines themselves are markers at those locations, such that the\n",
    "# lines keep their angle and position, independent of the axes size or scale\n",
    "# Finally, we need to disable clipping.\n",
    "\n",
    "d = .5  # proportion of vertical to horizontal extent of the slanted line\n",
    "kwargs = dict(marker=[(-1, -d), (1, d)], markersize=12,\n",
    "              linestyle=\"none\", color='k', mec='k', mew=1, clip_on=False)\n",
    "ax1.plot([0, 1], [0, 0], transform=ax1.transAxes, **kwargs)\n",
    "ax2.plot([0, 1], [1, 1], transform=ax2.transAxes, **kwargs)\n",
    "\n",
    "plt.xlabel('scale rate')\n",
    "plt.ylabel('scale penalty score') \n",
    "\n",
    "ax1.legend()\n",
    "plt.show()"
   ]
  },
  {
   "cell_type": "code",
   "execution_count": 318,
   "metadata": {},
   "outputs": [],
   "source": [
    "# im = plt.imshow(map_region, cmap='jet', interpolation='nearest')\n",
    "# color = ['orange','green','black','red']\n",
    "# for i in range(len(MIN_C)):\n",
    "#     plt.scatter(int(info['insights'][i][0]), int(info['insights'][i][1]), marker='^', c=color[i])\n",
    "#     plt.scatter(MIN_C[i][0]+BBOX_C[0], MIN_C[i][1]+BBOX_C[1], marker='x', c=color[i])\n",
    "# plt.colorbar(im);\n",
    "# plt.show()"
   ]
  },
  {
   "cell_type": "code",
   "execution_count": 157,
   "metadata": {},
   "outputs": [
    {
     "name": "stdout",
     "output_type": "stream",
     "text": [
      "True\n",
      "9.0\n",
      "POLYGON ((4 4, 4 1, 1 1, 1 4, 4 4))\n"
     ]
    }
   ],
   "source": [
    "from shapely.geometry import Polygon\n",
    "\n",
    "p = Polygon([(0, 5), (5, 5), (5, 0), (0, 0)])\n",
    "q = Polygon([(1, 4), (4, 4), (4, 1), (1, 1)])\n",
    "print(p.intersects(q))  # True\n",
    "print(p.intersection(q).area)  # 1.0\n",
    "x = p.intersection(q)\n",
    "print(x)"
   ]
  },
  {
   "cell_type": "code",
   "execution_count": 121,
   "metadata": {},
   "outputs": [
    {
     "ename": "NameError",
     "evalue": "name 'Point' is not defined",
     "output_type": "error",
     "traceback": [
      "\u001b[1;31m---------------------------------------------------------------------------\u001b[0m",
      "\u001b[1;31mNameError\u001b[0m                                 Traceback (most recent call last)",
      "\u001b[1;32m<ipython-input-121-d06d70c84aa2>\u001b[0m in \u001b[0;36m<module>\u001b[1;34m\u001b[0m\n\u001b[1;32m----> 1\u001b[1;33m \u001b[0mp1\u001b[0m\u001b[1;33m,\u001b[0m \u001b[0mp2\u001b[0m\u001b[1;33m,\u001b[0m \u001b[0mp3\u001b[0m\u001b[1;33m,\u001b[0m \u001b[0mp4\u001b[0m \u001b[1;33m=\u001b[0m \u001b[0mmap\u001b[0m\u001b[1;33m(\u001b[0m\u001b[0mPoint\u001b[0m\u001b[1;33m,\u001b[0m \u001b[1;33m[\u001b[0m\u001b[1;33m(\u001b[0m\u001b[1;36m0\u001b[0m\u001b[1;33m,\u001b[0m \u001b[1;36m0\u001b[0m\u001b[1;33m)\u001b[0m\u001b[1;33m,\u001b[0m \u001b[1;33m(\u001b[0m\u001b[1;36m5\u001b[0m\u001b[1;33m,\u001b[0m \u001b[1;36m0\u001b[0m\u001b[1;33m)\u001b[0m\u001b[1;33m,\u001b[0m \u001b[1;33m(\u001b[0m\u001b[1;36m0\u001b[0m\u001b[1;33m,\u001b[0m \u001b[1;36m5\u001b[0m\u001b[1;33m)\u001b[0m\u001b[1;33m,\u001b[0m \u001b[1;33m(\u001b[0m\u001b[1;36m5\u001b[0m\u001b[1;33m,\u001b[0m \u001b[1;36m5\u001b[0m\u001b[1;33m)\u001b[0m\u001b[1;33m]\u001b[0m\u001b[1;33m)\u001b[0m\u001b[1;33m\u001b[0m\u001b[1;33m\u001b[0m\u001b[0m\n\u001b[0m\u001b[0;32m      2\u001b[0m \u001b[0mp5\u001b[0m\u001b[1;33m,\u001b[0m \u001b[0mp6\u001b[0m\u001b[1;33m,\u001b[0m \u001b[0mp7\u001b[0m\u001b[1;33m,\u001b[0m \u001b[0mp8\u001b[0m \u001b[1;33m=\u001b[0m \u001b[0mmap\u001b[0m\u001b[1;33m(\u001b[0m\u001b[0mPoint\u001b[0m\u001b[1;33m,\u001b[0m \u001b[1;33m[\u001b[0m\u001b[1;33m(\u001b[0m\u001b[1;36m1\u001b[0m\u001b[1;33m,\u001b[0m \u001b[1;36m1\u001b[0m\u001b[1;33m)\u001b[0m\u001b[1;33m,\u001b[0m \u001b[1;33m(\u001b[0m\u001b[1;36m4\u001b[0m\u001b[1;33m,\u001b[0m \u001b[1;36m1\u001b[0m\u001b[1;33m)\u001b[0m\u001b[1;33m,\u001b[0m \u001b[1;33m(\u001b[0m\u001b[1;36m1\u001b[0m\u001b[1;33m,\u001b[0m \u001b[1;36m4\u001b[0m\u001b[1;33m)\u001b[0m\u001b[1;33m,\u001b[0m \u001b[1;33m(\u001b[0m\u001b[1;36m4\u001b[0m\u001b[1;33m,\u001b[0m \u001b[1;36m4\u001b[0m\u001b[1;33m)\u001b[0m\u001b[1;33m]\u001b[0m\u001b[1;33m)\u001b[0m\u001b[1;33m\u001b[0m\u001b[1;33m\u001b[0m\u001b[0m\n\u001b[0;32m      3\u001b[0m \u001b[0mp9\u001b[0m\u001b[1;33m,\u001b[0m \u001b[0mp10\u001b[0m\u001b[1;33m,\u001b[0m \u001b[0mp11\u001b[0m\u001b[1;33m,\u001b[0m \u001b[0mp12\u001b[0m \u001b[1;33m=\u001b[0m \u001b[0mmap\u001b[0m\u001b[1;33m(\u001b[0m\u001b[0mPoint\u001b[0m\u001b[1;33m,\u001b[0m \u001b[1;33m[\u001b[0m\u001b[1;33m(\u001b[0m\u001b[1;36m5\u001b[0m\u001b[1;33m,\u001b[0m \u001b[1;36m5\u001b[0m\u001b[1;33m)\u001b[0m\u001b[1;33m,\u001b[0m \u001b[1;33m(\u001b[0m\u001b[1;36m6\u001b[0m\u001b[1;33m,\u001b[0m \u001b[1;36m5\u001b[0m\u001b[1;33m)\u001b[0m\u001b[1;33m,\u001b[0m \u001b[1;33m(\u001b[0m\u001b[1;36m5\u001b[0m\u001b[1;33m,\u001b[0m \u001b[1;36m6\u001b[0m\u001b[1;33m)\u001b[0m\u001b[1;33m,\u001b[0m \u001b[1;33m(\u001b[0m\u001b[1;36m6\u001b[0m\u001b[1;33m,\u001b[0m \u001b[1;36m6\u001b[0m\u001b[1;33m)\u001b[0m\u001b[1;33m]\u001b[0m\u001b[1;33m)\u001b[0m\u001b[1;33m\u001b[0m\u001b[1;33m\u001b[0m\u001b[0m\n\u001b[0;32m      4\u001b[0m \u001b[0mp13\u001b[0m\u001b[1;33m,\u001b[0m \u001b[0mp14\u001b[0m\u001b[1;33m,\u001b[0m \u001b[0mp15\u001b[0m\u001b[1;33m,\u001b[0m \u001b[0mp16\u001b[0m \u001b[1;33m=\u001b[0m \u001b[0mmap\u001b[0m\u001b[1;33m(\u001b[0m\u001b[0mPoint\u001b[0m\u001b[1;33m,\u001b[0m \u001b[1;33m[\u001b[0m\u001b[1;33m(\u001b[0m\u001b[1;36m4\u001b[0m\u001b[1;33m,\u001b[0m \u001b[1;36m4\u001b[0m\u001b[1;33m)\u001b[0m\u001b[1;33m,\u001b[0m \u001b[1;33m(\u001b[0m\u001b[1;36m6\u001b[0m\u001b[1;33m,\u001b[0m \u001b[1;36m4\u001b[0m\u001b[1;33m)\u001b[0m\u001b[1;33m,\u001b[0m \u001b[1;33m(\u001b[0m\u001b[1;36m4\u001b[0m\u001b[1;33m,\u001b[0m \u001b[1;36m6\u001b[0m\u001b[1;33m)\u001b[0m\u001b[1;33m,\u001b[0m \u001b[1;33m(\u001b[0m\u001b[1;36m6\u001b[0m\u001b[1;33m,\u001b[0m \u001b[1;36m6\u001b[0m\u001b[1;33m)\u001b[0m\u001b[1;33m]\u001b[0m\u001b[1;33m)\u001b[0m\u001b[1;33m\u001b[0m\u001b[1;33m\u001b[0m\u001b[0m\n\u001b[0;32m      5\u001b[0m \u001b[0mpoly1\u001b[0m \u001b[1;33m=\u001b[0m \u001b[0mPolygon\u001b[0m\u001b[1;33m(\u001b[0m\u001b[0mp1\u001b[0m\u001b[1;33m,\u001b[0m \u001b[0mp2\u001b[0m\u001b[1;33m,\u001b[0m \u001b[0mp3\u001b[0m\u001b[1;33m,\u001b[0m \u001b[0mp4\u001b[0m\u001b[1;33m)\u001b[0m\u001b[1;33m\u001b[0m\u001b[1;33m\u001b[0m\u001b[0m\n",
      "\u001b[1;31mNameError\u001b[0m: name 'Point' is not defined"
     ]
    }
   ],
   "source": [
    "p1, p2, p3, p4 = map(Point, [(0, 0), (5, 0), (0, 5), (5, 5)]) \n",
    "p5, p6, p7, p8 = map(Point, [(1, 1), (4, 1), (1, 4), (4, 4)])\n",
    "p9, p10, p11, p12 = map(Point, [(5, 5), (6, 5), (5, 6), (6, 6)])\n",
    "p13, p14, p15, p16 = map(Point, [(4, 4), (6, 4), (4, 6), (6, 6)])\n",
    "poly1 = Polygon(p1, p2, p3, p4) \n",
    "poly2 = Polygon(p5, p6, p7, p8)\n",
    "poly3 = Polygon(p9, p10, p11, p12) \n",
    "poly4 = Polygon(p13, p14, p15, p16) \n",
    "print(poly1.intersection(poly2))\n",
    "print(poly1.intersection(poly3))\n",
    "print(poly1.intersection(poly4))\n",
    "print(poly3.intersection(poly4))"
   ]
  },
  {
   "cell_type": "code",
   "execution_count": null,
   "metadata": {},
   "outputs": [],
   "source": []
  },
  {
   "cell_type": "code",
   "execution_count": null,
   "metadata": {},
   "outputs": [],
   "source": []
  }
 ],
 "metadata": {
  "kernelspec": {
   "display_name": "Python 3",
   "language": "python",
   "name": "python3"
  },
  "language_info": {
   "codemirror_mode": {
    "name": "ipython",
    "version": 3
   },
   "file_extension": ".py",
   "mimetype": "text/x-python",
   "name": "python",
   "nbconvert_exporter": "python",
   "pygments_lexer": "ipython3",
   "version": "3.8.3"
  }
 },
 "nbformat": 4,
 "nbformat_minor": 4
}
